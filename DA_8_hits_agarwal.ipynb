{
 "cells": [
  {
   "cell_type": "code",
   "execution_count": 8,
   "metadata": {},
   "outputs": [],
   "source": [
    "import numpy as np\n",
    "A=np.array([[0,  0,  0,  0,  1,  0,  0,  0,  0,  0,  0,  0,  0,  0,  0],\n",
    "                        [1,  0,  0,  0,  1,  1,  0,  0,  0,  1,  0,  0,  0,  0,  0],\n",
    "                        [0,  0,  0,  0,  0,  0,  0,  0,  0,  0,  0,  0,  0,  0,  0],\n",
    "                        [0,  0,  0,  0,  0,  0,  1,  1,  1,  0,  0,  0,  0,  0,  0],\n",
    "                        [ 0,  0,  0,  0,  0,  0,  0,  1,  0,  0,  0,  0,  0,  0,  0],\n",
    "                        [ 1,  1,  0,  0,  0,  0,  1,  0,  0,  0,  0,  0,  0,  0,  0],\n",
    "                        [0,  0,  1,  0,  0,  0,  0,  0,  0,  0,  0,  0,  0,  0,  0],\n",
    "                        [0,  0,  0,  0,  0,  0,  0,  0,  0,  0,  0,  0,  0,  0,  0],\n",
    "                        [ 0,  0,  0,  0,  0,  0,  0,  0,  0,  0,  0,  0,  0,  0,  0],\n",
    "                        [ 0,  0,  0,  0,  0,  0,  0,  0,  0,  0,  0,  0,  0,  0,  0],\n",
    "                        [0,  1,  0,  0,  0,  0,  0,  0,  0,  0,  0,  0,  0,  0,  0],\n",
    "                        [1,  0,  0,  0,  0,  0,  0,  0,  0,  1,  0,  0,  1,  0,  0],\n",
    "                        [0,  0,  1,  0,  0,  0,  0,  0,  0,  0,  0,  0,  0,  0,  0],\n",
    "                        [0,  0,  1,  0,  0,  0,  0,  0,  0,  0,  0,  0,  0,  0,  0],\n",
    "                        [0,  0,  1,  1,  0,  0,  0,  0,  1,  0,  0,  0,  0,  0,  0]])\n",
    "\n",
    "\n",
    "A1=np.array([[0,1,0,0,0],[0,0,0,1,0],[1,1,0,0,0],[1,0,0,0,1],[1,0,0,0,0]])\n",
    "A2=np.array([[0,1,1,0],[0,0,1,1],[1,0,0,1],[0,0,1,0]])\n",
    "\n",
    "def hits(A):\n",
    "    n= len(A)\n",
    "    Au= np.dot(np.transpose(A),A)\n",
    "    Hu = np.dot(A,np.transpose(A))\n",
    "    a = np.ones(n); h = np.ones(n)\n",
    "    for j in range(1):    \n",
    "        a = np.dot(a,Au)\n",
    "        a= a/sum(a)\n",
    "        h = np.dot(h,Hu)\n",
    "        h = h/ sum(h)\n",
    "        print ('Authority scores: ',a)\n",
    "        print(' ')\n",
    "        print('Hub scores: ',h)\n",
    "        print(' ')"
   ]
  },
  {
   "cell_type": "code",
   "execution_count": 9,
   "metadata": {},
   "outputs": [
    {
     "name": "stdout",
     "output_type": "stream",
     "text": [
      "Authority scores:  [ 0.17241379  0.06896552  0.10344828  0.05172414  0.0862069   0.06896552\n",
      "  0.10344828  0.06896552  0.10344828  0.12068966  0.          0.\n",
      "  0.05172414  0.          0.        ]\n",
      " \n",
      "Hub scores:  [ 0.03846154  0.15384615  0.          0.11538462  0.03846154  0.13461538\n",
      "  0.07692308  0.          0.          0.          0.03846154  0.11538462\n",
      "  0.07692308  0.07692308  0.13461538]\n",
      " \n"
     ]
    }
   ],
   "source": [
    "hits(A)"
   ]
  },
  {
   "cell_type": "code",
   "execution_count": 10,
   "metadata": {},
   "outputs": [
    {
     "name": "stdout",
     "output_type": "stream",
     "text": [
      "Authority scores:  [ 0.45454545  0.27272727  0.          0.09090909  0.18181818]\n",
      " \n",
      "Hub scores:  [ 0.13333333  0.06666667  0.33333333  0.26666667  0.2       ]\n",
      " \n"
     ]
    }
   ],
   "source": [
    "hits(A1)"
   ]
  },
  {
   "cell_type": "code",
   "execution_count": 11,
   "metadata": {},
   "outputs": [
    {
     "name": "stdout",
     "output_type": "stream",
     "text": [
      "Authority scores:  [ 0.15384615  0.15384615  0.38461538  0.30769231]\n",
      " \n",
      "Hub scores:  [ 0.26666667  0.33333333  0.2         0.2       ]\n",
      " \n"
     ]
    }
   ],
   "source": [
    "hits(A2)"
   ]
  },
  {
   "cell_type": "code",
   "execution_count": null,
   "metadata": {
    "collapsed": true
   },
   "outputs": [],
   "source": []
  }
 ],
 "metadata": {
  "kernelspec": {
   "display_name": "Python 3",
   "language": "python",
   "name": "python3"
  },
  "language_info": {
   "codemirror_mode": {
    "name": "ipython",
    "version": 3
   },
   "file_extension": ".py",
   "mimetype": "text/x-python",
   "name": "python",
   "nbconvert_exporter": "python",
   "pygments_lexer": "ipython3",
   "version": "3.6.1"
  }
 },
 "nbformat": 4,
 "nbformat_minor": 2
}
